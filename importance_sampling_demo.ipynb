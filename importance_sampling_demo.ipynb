{
 "cells": [
  {
   "cell_type": "markdown",
   "id": "6cb039ae",
   "metadata": {},
   "source": [
    "# 🎯 Importance Sampling 示例：估计 E[x²]，其中 x ~ N(0, 1)"
   ]
  },
  {
   "cell_type": "markdown",
   "id": "a3a42236",
   "metadata": {},
   "source": [
    "\n",
    "我们目标是估计：\n",
    "\n",
    "\\[\n",
    "\\mu = \\mathbb{E}_{x \\sim \\mathcal{N}(0, 1)}[x^2]\n",
    "\\]\n",
    "\n",
    "但我们无法从 \\( \\mathcal{N}(0, 1) \\) 采样，只能从 \\( q(x) = \\mathcal{N}(2, 1) \\) 采样，因此使用 Importance Sampling：\n",
    "\n",
    "\\[\n",
    "\\mu \\approx \\frac{1}{n} \\sum_{i=1}^{n} f(x_i) \\cdot \\frac{p(x_i)}{q(x_i)} = \\frac{1}{n} \\sum x_i^2 \\cdot w(x_i)\n",
    "\\]\n",
    "\n",
    "其中：\n",
    "\n",
    "\\[\n",
    "w(x) = \\frac{\\mathcal{N}(0,1)(x)}{\\mathcal{N}(2,1)(x)} = \\exp(-2x + 2)\n",
    "\\]\n"
   ]
  },
  {
   "cell_type": "code",
   "execution_count": null,
   "id": "a0c8d9e7",
   "metadata": {},
   "outputs": [],
   "source": [
    "import numpy as np\n",
    "import matplotlib.pyplot as plt\n",
    "from scipy.stats import norm\n",
    "\n",
    "# Target distribution: N(0, 1)\n",
    "p = lambda x: norm.pdf(x, loc=0, scale=1)\n",
    "\n",
    "# Proposal distribution: N(2, 1)\n",
    "q = lambda x: norm.pdf(x, loc=2, scale=1)\n",
    "\n",
    "# Importance weights: p(x) / q(x)\n",
    "def importance_weight(x):\n",
    "    return np.exp(-2 * x + 2)  # derived analytically\n",
    "\n",
    "# Function to estimate: f(x) = x^2\n",
    "f = lambda x: x**2\n",
    "\n",
    "# Sample from proposal\n",
    "n = 10000\n",
    "x_samples = np.random.normal(loc=2, scale=1, size=n)\n",
    "\n",
    "# Compute weights and weighted function values\n",
    "weights = importance_weight(x_samples)\n",
    "f_weighted = f(x_samples) * weights\n",
    "\n",
    "# Estimate expectation\n",
    "estimate = np.mean(f_weighted)\n",
    "true_value = 1.0  # E[x^2] under N(0,1)\n",
    "\n",
    "print(f\"Importance Sampling Estimate: {estimate:.4f}\")\n",
    "print(f\"True Value: {true_value:.4f}\")\n",
    "print(f\"Relative Error: {abs(estimate - true_value) / true_value:.2%}\")\n"
   ]
  },
  {
   "cell_type": "code",
   "execution_count": null,
   "id": "c51a020b",
   "metadata": {},
   "outputs": [],
   "source": [
    "plt.figure(figsize=(8, 4))\n",
    "plt.hist(weights, bins=100, density=True, alpha=0.7, color='skyblue')\n",
    "plt.title(\"Importance Weights Distribution\")\n",
    "plt.xlabel(\"w(x) = exp(-2x + 2)\")\n",
    "plt.ylabel(\"Density\")\n",
    "plt.grid(True)\n",
    "plt.show()\n"
   ]
  },
  {
   "cell_type": "code",
   "execution_count": null,
   "id": "a26707e4",
   "metadata": {},
   "outputs": [],
   "source": [
    "x = np.linspace(-4, 6, 500)\n",
    "plt.figure(figsize=(8, 4))\n",
    "plt.plot(x, norm.pdf(x, 0, 1), label='Target: N(0,1)', lw=2)\n",
    "plt.plot(x, norm.pdf(x, 2, 1), label='Proposal: N(2,1)', lw=2, linestyle='--')\n",
    "plt.fill_between(x, 0, norm.pdf(x, 0, 1), alpha=0.2)\n",
    "plt.fill_between(x, 0, norm.pdf(x, 2, 1), alpha=0.2)\n",
    "plt.legend()\n",
    "plt.title(\"Target vs Proposal Distributions\")\n",
    "plt.grid(True)\n",
    "plt.show()\n"
   ]
  },
  {
   "cell_type": "markdown",
   "id": "000d0492",
   "metadata": {},
   "source": [
    "\n",
    "## ✅ 结论\n",
    "\n",
    "- Importance Sampling 可以用 \\( q(x) = \\mathcal{N}(2,1) \\) 的样本近似估计 \\( p(x) = \\mathcal{N}(0,1) \\) 下的期望。\n",
    "- 精确的 \\( w(x) = \\exp(-2x + 2) \\) 补偿分布差异。\n",
    "- 方差仍较高；真实问题中需加权、截断、或使用其他改进方法（如 Per-decision IS）。\n"
   ]
  }
 ],
 "metadata": {},
 "nbformat": 4,
 "nbformat_minor": 5
}
